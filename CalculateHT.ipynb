{
 "cells": [
  {
   "cell_type": "markdown",
   "metadata": {},
   "source": [
    "#High Tech Industries (STEM Concentration)"
   ]
  },
  {
   "cell_type": "markdown",
   "metadata": {},
   "source": [
    "This notebook uses BLS Industry-Occupation employment data to identify a set of High Tech industries according to the methodology in Hecker (2005). The resulting list, based on the relative concentration of STEM or \"technology intensive\" occupations. Moreover, these High Tech industries are classified into levels according to the intensity with which they utilize STEM workers. \n",
    "\n",
    "Heckler, D. (2005). High-technology employment: a NAICS-based update. Monthly Lab. Rev., 128, 57."
   ]
  },
  {
   "cell_type": "code",
   "execution_count": 59,
   "metadata": {
    "collapsed": true
   },
   "outputs": [],
   "source": [
    "# import libraries\n",
    "import pandas as pd\n",
    "import numpy as np\n",
    "\n",
    "# data paths\n",
    "xwalkPath = ''\n",
    "blsPath = ''"
   ]
  },
  {
   "cell_type": "markdown",
   "metadata": {
    "collapsed": true
   },
   "source": [
    "Import list of 2000 SOC occupations identified in Hecker (2005) as technology intensive. These occupations are then concorded to 2010 SOC codes so that they can be used to identify STEM employment in more recent OES Industry-Occupation data. \n",
    "\n",
    "The BLS 2000 SOC to 2010 SOC crosswalk can be found here: http://www.bls.gov/soc/"
   ]
  },
  {
   "cell_type": "code",
   "execution_count": 60,
   "metadata": {
    "collapsed": false
   },
   "outputs": [
    {
     "name": "stdout",
     "output_type": "stream",
     "text": [
      "Count of STEM occupations (2010 SOC):  74\n"
     ]
    }
   ],
   "source": [
    "# import list of 'technology intensive' occupations from Hecker (2005), Table 3\n",
    "stemOcc = pd.read_csv(xwalkPath+'hecker2005_table3.txt')\n",
    "stemOcc = stemOcc[['occupationcode']]\n",
    "stemOcc.columns = ['occ00']\n",
    "\n",
    "# import BLS soc crosswalk, 2000 to 2010\n",
    "soc0010 = pd.read_csv(xwalkPath+'soc_2000_to_2010_crosswalk.csv')\n",
    "soc0010 = soc0010[['2000 SOC code','2010 SOC code']]\n",
    "soc0010.columns = ['occ00','occ10']\n",
    "\n",
    "# concord Hecker (2005) high tech occupations\n",
    "stemOcc = pd.merge(stemOcc, soc0010, on='occ00', how='left')\n",
    "stemOcc = stemOcc[['occ10']]\n",
    "stemOcc.columns = ['occ']\n",
    "stemOcc = stemOcc.drop_duplicates()\n",
    "\n",
    "print 'Count of STEM occupations (2010 SOC): ', len(stemOcc)"
   ]
  },
  {
   "cell_type": "markdown",
   "metadata": {},
   "source": [
    "Import OES BLS Industry-Occupation data for 2012 and 2014. These tables are at the detailed occupation and 4-digit 2012 NAICS industry level. The 2012 data comes split into two files. \n",
    "\n",
    "BLS OES data can be found here: http://www.bls.gov/oes/tables.htm"
   ]
  },
  {
   "cell_type": "code",
   "execution_count": 61,
   "metadata": {
    "collapsed": false
   },
   "outputs": [],
   "source": [
    "# import 2012 OES data\n",
    "oes2012 = pd.read_csv(blsPath+'nat4d_M2012_dl_1_113300_517100.csv')\n",
    "oes2012 = oes2012.append(pd.read_csv(blsPath+'nat4d_M2012_dl_2_517200_999300.csv'))\n",
    "# keep only detail level records, dropping summary and aggregate records\n",
    "oes2012 = oes2012[(oes2012.OCC_GROUP=='detailed') & (oes2012.OCC_CODE!='00-0000')]\n",
    "oes2012 = oes2012.reset_index(drop=True)\n",
    "oes2012 = oes2012[['NAICS','OCC_CODE','TOT_EMP']]\n",
    "# subset to first 4 digits of naics, dropping zero padding\n",
    "oes2012['NAICS'] = oes2012['NAICS'].astype(str)\n",
    "oes2012['NAICS'] = oes2012['NAICS'].str[0:4]\n",
    "# clean and destring total employment\n",
    "oes2012['TOT_EMP'] = oes2012['TOT_EMP'].str.replace(' ','')\n",
    "oes2012['TOT_EMP'] = oes2012['TOT_EMP'].str.replace(' ','')\n",
    "oes2012['TOT_EMP'] = oes2012['TOT_EMP'].str.replace(',','')\n",
    "oes2012['TOT_EMP'] = oes2012['TOT_EMP'].str.replace('\\*\\*','')\n",
    "oes2012['TOT_EMP'] = pd.to_numeric(oes2012['TOT_EMP'])\n",
    "oes2012.columns = ['naics', 'occ', 'tot_emp']\n",
    "\n",
    "# import 2014 OES data\n",
    "oes2014 = pd.read_csv(blsPath+'nat4d_M2014_dl.csv')\n",
    "# keep only detail level records, dropping summary and aggregate records\n",
    "oes2014 = oes2014[(oes2014.OCC_GROUP=='detailed') & (oes2014.OCC_CODE!='00-0000')]\n",
    "oes2014 = oes2014.reset_index(drop=True)\n",
    "oes2014 = oes2014[['NAICS','OCC_CODE','TOT_EMP']]\n",
    "# subset to first 4 digits of naics, dropping zero padding\n",
    "oes2014['NAICS'] = oes2014['NAICS'].astype(str)\n",
    "oes2014['NAICS'] = oes2014['NAICS'].str[0:4]\n",
    "# clean and destring total employment\n",
    "oes2014['TOT_EMP'] = oes2014['TOT_EMP'].str.replace(' ','')\n",
    "oes2014['TOT_EMP'] = oes2014['TOT_EMP'].str.replace(' ','')\n",
    "oes2014['TOT_EMP'] = oes2014['TOT_EMP'].str.replace(',','')\n",
    "oes2014['TOT_EMP'] = oes2014['TOT_EMP'].str.replace('\\*\\*','')\n",
    "oes2014['TOT_EMP'] = pd.to_numeric(oes2014['TOT_EMP'])\n",
    "oes2014.columns = ['naics', 'occ', 'tot_emp']"
   ]
  },
  {
   "cell_type": "markdown",
   "metadata": {
    "collapsed": false
   },
   "source": [
    "Flag STEM or 'technology oriented' occupations on the OES data. Then calculate the total employment and STEM employment for each industry. Take the ratio of STEM employment to total employment in each industry and find the mean STEM emplyoment ratio across all industries. Finally, implement the cutoff rules for High Tech industries as defined in Hecker (2005): Level I industries have STEM ratio greater than (or equal to) 5 times the average STEM concentration, Level II includes industries with a STEM employment ratio between 3 and 5 times the average, and Level III includes industries with a STEM employment ratio between 2 and 3 times the average. "
   ]
  },
  {
   "cell_type": "code",
   "execution_count": 62,
   "metadata": {
    "collapsed": false
   },
   "outputs": [
    {
     "name": "stdout",
     "output_type": "stream",
     "text": [
      "#################### High Tech Industries - 2012 OES ####################\n",
      "\n",
      "Count of 4-digit 2012 NAICS by HT Level:\n",
      "            len\n",
      "oes12htlvl     \n",
      "            252\n",
      "Level I      11\n",
      "Level II     12\n",
      "Level III    15\n",
      "\n",
      "List of Level I HT Industries:\n",
      "['2111', '3341', '3342', '3344', '3345', '3364', '5112', '5182', '5413', '5415', '5417']\n"
     ]
    }
   ],
   "source": [
    "# flag STEM occupations 2012 OES\n",
    "oes2012ht = pd.merge(oes2012, stemOcc, on='occ', how='left', indicator=True)\n",
    "oes2012ht['htocc'] = 0\n",
    "oes2012ht.loc[oes2012ht._merge=='both','htocc'] = 1\n",
    "# calculate STEM employment\n",
    "oes2012ht['htemp'] = oes2012ht.tot_emp * oes2012ht.htocc\n",
    "\n",
    "# sum emp and STEM emp by industry, calc ratio and average\n",
    "oes2012ht_gb = oes2012ht[['tot_emp','htemp','naics']].groupby('naics').agg(sum)\n",
    "oes2012ht_gb['naics']=oes2012ht_gb.index\n",
    "oes2012ht_gb = oes2012ht_gb.reset_index(drop=True)\n",
    "oes2012ht_gb['htratio'] = oes2012ht_gb.htemp/oes2012ht_gb.tot_emp\n",
    "oes2012ht_gb['htratio_mean'] = oes2012ht_gb.htratio.mean()\n",
    "\n",
    "# flag industry by high tech level\n",
    "oes2012ht_gb['oes12htlvl'] = ''\n",
    "oes2012ht_gb.loc[oes2012ht_gb.htratio>=2*oes2012ht_gb.htratio_mean,'oes12htlvl'] = 'Level III'\n",
    "oes2012ht_gb.loc[oes2012ht_gb.htratio>=3*oes2012ht_gb.htratio_mean,'oes12htlvl'] = 'Level II'\n",
    "oes2012ht_gb.loc[oes2012ht_gb.htratio>=5*oes2012ht_gb.htratio_mean,'oes12htlvl'] = 'Level I'\n",
    "\n",
    "# show count of 4-digit industries by level\n",
    "print '#'*20 +' High Tech Industries - 2012 OES ' + '#'*20\n",
    "print '\\nCount of 4-digit 2012 NAICS by HT Level:'\n",
    "print oes2012ht_gb.groupby('oes12htlvl').agg([len])['naics']\n",
    "# list level I industries\n",
    "print '\\nList of Level I HT Industries:'\n",
    "print list(oes2012ht_gb[oes2012ht_gb.oes12htlvl=='Level I']['naics'])"
   ]
  },
  {
   "cell_type": "code",
   "execution_count": 63,
   "metadata": {
    "collapsed": false
   },
   "outputs": [
    {
     "name": "stdout",
     "output_type": "stream",
     "text": [
      "#################### High Tech Industries - 2014 OES ####################\n",
      "\n",
      "Count of 4-digit 2012 NAICS by HT Level:\n",
      "            len\n",
      "oes14htlvl     \n",
      "            254\n",
      "Level I      11\n",
      "Level II     16\n",
      "Level III     9\n",
      "\n",
      "List of Level I HT Industries:\n",
      "['3341', '3342', '3344', '3345', '3364', '5112', '5182', '5191', '5413', '5415', '5417']\n"
     ]
    }
   ],
   "source": [
    "# flag STEM occupations 2014 OES\n",
    "oes2014ht = pd.merge(oes2014, stemOcc, on='occ', how='left', indicator=True)\n",
    "oes2014ht['htocc'] = 0\n",
    "oes2014ht.loc[oes2014ht._merge=='both','htocc'] = 1\n",
    "# calculate STEM employment\n",
    "oes2014ht['htemp'] = oes2014ht.tot_emp * oes2014ht.htocc\n",
    "\n",
    "# sum emp and STEM emp by industry, calc ratio and average\n",
    "oes2014ht_gb = oes2014ht[['tot_emp','htemp','naics']].groupby('naics').agg(sum)\n",
    "oes2014ht_gb['naics']=oes2014ht_gb.index\n",
    "oes2014ht_gb = oes2014ht_gb.reset_index(drop=True)\n",
    "oes2014ht_gb['htratio'] = oes2014ht_gb.htemp/oes2014ht_gb.tot_emp\n",
    "oes2014ht_gb['htratio_mean'] = oes2014ht_gb.htratio.mean()\n",
    "\n",
    "# flag industry by high tech level\n",
    "oes2014ht_gb['oes14htlvl'] = ''\n",
    "oes2014ht_gb.loc[oes2014ht_gb.htratio>=2*oes2014ht_gb.htratio_mean,'oes14htlvl'] = 'Level III'\n",
    "oes2014ht_gb.loc[oes2014ht_gb.htratio>=3*oes2014ht_gb.htratio_mean,'oes14htlvl'] = 'Level II'\n",
    "oes2014ht_gb.loc[oes2014ht_gb.htratio>=5*oes2014ht_gb.htratio_mean,'oes14htlvl'] = 'Level I'\n",
    "\n",
    "# show count of 4-digit industries by level\n",
    "print '#'*20 +' High Tech Industries - 2014 OES ' + '#'*20\n",
    "print '\\nCount of 4-digit 2012 NAICS by HT Level:'\n",
    "print oes2014ht_gb.groupby('oes14htlvl').agg([len])['naics']\n",
    "# list level I industries\n",
    "print '\\nList of Level I HT Industries:'\n",
    "print list(oes2014ht_gb[oes2014ht_gb.oes14htlvl=='Level I']['naics'])"
   ]
  },
  {
   "cell_type": "markdown",
   "metadata": {},
   "source": [
    "Combine with list of 4-digit 2002 NAICS industries from Hecker (2005) and export to csv. Note that NAICS industries from Hecker (2005) are 2002 NAICS while the 2012 and 2014 OES data use 2012 NAICS. For comparability, these industries would need to be concorded to the same vintage of industry classification."
   ]
  },
  {
   "cell_type": "code",
   "execution_count": 64,
   "metadata": {
    "collapsed": false
   },
   "outputs": [
    {
     "name": "stdout",
     "output_type": "stream",
     "text": [
      "    naics hkr05htlvl oes12htlvl oes14htlvl\n",
      "24   1131   Level II        NaN        NaN\n",
      "25   1132   Level II        NaN        NaN\n",
      "14   2111   Level II    Level I   Level II\n",
      "51   2122        NaN        NaN  Level III\n",
      "15   2211   Level II  Level III   Level II\n",
      "27   3241  Level III  Level III  Level III\n",
      "16   3251   Level II   Level II   Level II\n",
      "17   3252   Level II  Level III  Level III\n",
      "42   3253  Level III        NaN        NaN\n",
      "0    3254    Level I   Level II   Level II\n",
      "28   3255  Level III        NaN        NaN\n",
      "29   3259  Level III        NaN        NaN\n",
      "18   3332   Level II   Level II   Level II\n",
      "19   3333   Level II   Level II   Level II\n",
      "30   3336  Level III  Level III   Level II\n",
      "31   3339  Level III  Level III  Level III\n",
      "1    3341    Level I    Level I    Level I\n",
      "2    3342    Level I    Level I    Level I\n",
      "20   3343   Level II  Level III   Level II\n",
      "3    3344    Level I    Level I    Level I\n",
      "4    3345    Level I    Level I    Level I\n",
      "21   3346   Level II  Level III   Level II\n",
      "32   3353  Level III  Level III  Level III\n",
      "121  3359        NaN  Level III  Level III\n",
      "5    3364    Level I    Level I    Level I\n",
      "125  3365        NaN  Level III        NaN\n",
      "45   3369  Level III        NaN        NaN\n",
      "22   4234   Level II   Level II  Level III\n",
      "44   4861  Level III  Level III   Level II\n",
      "33   4862  Level III  Level III        NaN\n",
      "46   4869  Level III        NaN        NaN\n",
      "6    5112    Level I    Level I    Level I\n",
      "7    5161    Level I        NaN        NaN\n",
      "34   5171  Level III   Level II   Level II\n",
      "35   5172  Level III   Level II   Level II\n",
      "36   5173  Level III        NaN        NaN\n",
      "37   5174  Level III   Level II   Level II\n",
      "8    5179    Level I   Level II   Level II\n",
      "9    5181    Level I        NaN        NaN\n",
      "10   5182    Level I    Level I    Level I\n",
      "208  5191        NaN   Level II    Level I\n",
      "38   5211  Level III   Level II   Level II\n",
      "43   5232  Level III  Level III        NaN\n",
      "214  5241        NaN  Level III  Level III\n",
      "11   5413    Level I    Level I    Level I\n",
      "12   5415    Level I    Level I    Level I\n",
      "23   5416   Level II   Level II   Level II\n",
      "13   5417    Level I    Level I    Level I\n",
      "39   5511  Level III  Level III  Level III\n",
      "41   5612  Level III        NaN        NaN\n",
      "40   8112  Level III        NaN        NaN\n",
      "26   9999   Level II        NaN        NaN\n"
     ]
    }
   ],
   "source": [
    "hecker05 = pd.read_csv(xwalkPath+'hecker2005_table4.txt')[['naics','level']]\n",
    "hecker05['naics'] = hecker05['naics'].astype(str)\n",
    "hecker05.columns = ['naics','hkr05htlvl']\n",
    "\n",
    "outDF = pd.merge(hecker05,oes2012ht_gb[['naics','oes12htlvl']], on='naics', how='outer')\n",
    "outDF = pd.merge(outDF, oes2014ht_gb[['naics','oes14htlvl']], on='naics', how='outer')\n",
    "outDF['oes12htlvl'] = outDF.oes12htlvl.fillna(np.nan)\n",
    "outDF.loc[outDF.oes12htlvl=='','oes12htlvl'] = np.nan\n",
    "outDF['oes14htlvl'] = outDF.oes14htlvl.fillna(np.nan)\n",
    "outDF.loc[outDF.oes14htlvl=='','oes14htlvl'] = np.nan\n",
    "outDF = outDF.dropna(how='all',subset=['hkr05htlvl','oes12htlvl','oes14htlvl'])\n",
    "outDF = outDF.sort_values(by='naics')\n",
    "outDF.to_csv(xwalkPath+'ht_stem_industries.csv', index=False)\n",
    "print outDF"
   ]
  }
 ],
 "metadata": {
  "kernelspec": {
   "display_name": "Python 2",
   "language": "python",
   "name": "python2"
  },
  "language_info": {
   "codemirror_mode": {
    "name": "ipython",
    "version": 2
   },
   "file_extension": ".py",
   "mimetype": "text/x-python",
   "name": "python",
   "nbconvert_exporter": "python",
   "pygments_lexer": "ipython2",
   "version": "2.7.11"
  }
 },
 "nbformat": 4,
 "nbformat_minor": 0
}
